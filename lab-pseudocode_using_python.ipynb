{
 "cells": [
  {
   "cell_type": "markdown",
   "metadata": {},
   "source": [
    "# LAB | Pseudocode Using Python\n",
    "\n",
    "## Overview\n",
    "\n",
    "This exercise will help you practice writing pseudocode and translating it into Python code. Pseudocode is a way to describe algorithms in a human-readable format, which can then be implemented in programming languages.\n",
    "\n"
   ]
  },
  {
   "cell_type": "markdown",
   "metadata": {},
   "source": [
    "### Exercise 1: Multiply Two Numbers\n",
    "\n",
    "Write a pseudocode to read two numbers and multiply them together. Then, write the equivalent Python code."
   ]
  },
  {
   "cell_type": "markdown",
   "metadata": {},
   "source": [
    "<!-- Add your pseudocode here -->"
   ]
  },
  {
   "cell_type": "markdown",
   "metadata": {},
   "source": [
    "0. To avoid input errors, use a try/except statement\n",
    "1. Ask the user to input 2 numbers\n",
    "2. Convert input to FLOAT\n",
    "3. DISPLAY the output by multiplying the 2 numbers"
   ]
  },
  {
   "cell_type": "code",
   "execution_count": 22,
   "metadata": {},
   "outputs": [
    {
     "name": "stdout",
     "output_type": "stream",
     "text": [
      "Please enter a numeric value\n"
     ]
    }
   ],
   "source": [
    "try:\n",
    "    x = float(input(\"Enter a number: \"))\n",
    "    y = float(input(\"Enter another number: \"))\n",
    "    print(x*y)    \n",
    "except ValueError:\n",
    "    print(\"Please enter a numeric value\")"
   ]
  },
  {
   "cell_type": "markdown",
   "metadata": {},
   "source": [
    "### Exercise 2: Check Even or Odd\n",
    "\n",
    "Write pseudocode that checks if a number is even or odd and prints the result. Then, write the equivalent Python code."
   ]
  },
  {
   "cell_type": "markdown",
   "metadata": {},
   "source": [
    "<!-- Add your pseudocode here -->"
   ]
  },
  {
   "cell_type": "markdown",
   "metadata": {},
   "source": [
    "0. To avoid input errors, use a try/except statement\n",
    "1. Ask the user to input a number\n",
    "2. Convert the input to INT\n",
    "3. Using an IF statement, check whether input number is even or odd:\n",
    "    - using the modulus operator, if mod 2 = 0, DISPLAY \"Your number is even\"\n",
    "    - else DISPLAY \"Your number is odd\""
   ]
  },
  {
   "cell_type": "code",
   "execution_count": 24,
   "metadata": {},
   "outputs": [
    {
     "name": "stdout",
     "output_type": "stream",
     "text": [
      "Your number is even\n"
     ]
    }
   ],
   "source": [
    "try:\n",
    "    x = int(input(\"Enter a number: \"))\n",
    "    if x % 2 == 0:\n",
    "        print(\"Your number is even\")\n",
    "    else:\n",
    "        print(\"Your number is odd\")\n",
    "except ValueError:\n",
    "    print(\"Please enter a whole number\")"
   ]
  },
  {
   "cell_type": "markdown",
   "metadata": {},
   "source": [
    "### Exercise 3: Sum of First N Natural Numbers\n",
    "\n",
    "Write pseudocode to calculate the sum of the first N natural numbers. Then, write the equivalent Python code."
   ]
  },
  {
   "cell_type": "markdown",
   "metadata": {},
   "source": [
    "<!-- Add your pseudocode here -->"
   ]
  },
  {
   "cell_type": "markdown",
   "metadata": {},
   "source": [
    "0. To avoid input errors, use a try/except statement\n",
    "1. Ask the user to input a value N as an upper boundary\n",
    "2. Convert the input to INT\n",
    "3. DISPLAY the output using the sum() and range() function\n",
    "    - remember to set the range from 1 to N+1 to account for N to be included\n",
    "4. Fun Fact: The Sum of first N natural numbers is called \"Triangular number of N\""
   ]
  },
  {
   "cell_type": "code",
   "execution_count": 36,
   "metadata": {},
   "outputs": [
    {
     "name": "stdout",
     "output_type": "stream",
     "text": [
      "45\n"
     ]
    }
   ],
   "source": [
    "try:\n",
    "    N = int(input(\"Enter a number: \"))\n",
    "    print(sum(range(1, N+1)))\n",
    "except ValueError:\n",
    "    print(\"Please enter a whole number\")"
   ]
  },
  {
   "cell_type": "markdown",
   "metadata": {},
   "source": [
    "### Exercise 4: Find Maximum of Three Numbers\n",
    "\n",
    "Write pseudocode that finds the maximum of three numbers entered by the user. Then, write the equivalent Python code."
   ]
  },
  {
   "cell_type": "markdown",
   "metadata": {},
   "source": [
    "<!-- Add your pseudocode here -->"
   ]
  },
  {
   "cell_type": "markdown",
   "metadata": {},
   "source": [
    "0. To avoid input errors, use a try/except statement\n",
    "1. Ask the user to input 3 numbers\n",
    "2. Convert the numbers to FLOAT\n",
    "3. Using an IF statement, compare the 3 numbers:\n",
    "    - if number 1 is bigger than number 2 and 3, DISPLAY number 1\n",
    "    - else if Number 2 is bigger than number 3, DISPLAY number 2\n",
    "    - else DISPLAY number 3"
   ]
  },
  {
   "cell_type": "code",
   "execution_count": 43,
   "metadata": {},
   "outputs": [
    {
     "name": "stdout",
     "output_type": "stream",
     "text": [
      "8.0\n"
     ]
    }
   ],
   "source": [
    "try:\n",
    "    x = float(input(\"Enter a number: \"))\n",
    "    y = float(input(\"Enter another number: \"))\n",
    "    z = float(input(\"Enter a third number: \"))\n",
    "    if x > y and x > z:\n",
    "        print(x)\n",
    "    elif y > z:\n",
    "        print(y)\n",
    "    else:\n",
    "        print(z)\n",
    "except ValueError:\n",
    "    print(\"Please enter a numeric value\")"
   ]
  },
  {
   "cell_type": "markdown",
   "metadata": {},
   "source": [
    "### Exercise 5: Count Vowels in a String\n",
    "\n",
    "Write pseudocode to count the number of vowels in a given string and print the count. Then, write the equivalent Python code."
   ]
  },
  {
   "cell_type": "markdown",
   "metadata": {},
   "source": [
    "<!-- Add your pseudocode here -->"
   ]
  },
  {
   "cell_type": "markdown",
   "metadata": {},
   "source": [
    "1. Create an empty list called \"vowels\". Here we store all vowels from our input string.\n",
    "2. Ask the user to input any string.\n",
    "3. Using a FOR LOOP, create a variable that loops through the user input.\n",
    "4. Using an IF statement, check for any matches with any vowels.\n",
    "    - IMPORTANT: Be sure to account for both lowercase and uppercase vowels.\n",
    "    - if there is a match, APPEND to the list.\n",
    "5. Print the length of the list using the len() function."
   ]
  },
  {
   "cell_type": "code",
   "execution_count": 69,
   "metadata": {},
   "outputs": [
    {
     "name": "stdout",
     "output_type": "stream",
     "text": [
      "3\n"
     ]
    }
   ],
   "source": [
    "vowels = []\n",
    "user_input = input(\"Enter a string: \")\n",
    "for i in user_input:\n",
    "    if i in \"aeiouAEIOU\":\n",
    "        vowels.append(i)\n",
    "print(len(vowels))"
   ]
  },
  {
   "cell_type": "markdown",
   "metadata": {},
   "source": [
    "## Bonus Exercises\n",
    "\n",
    "### Bonus Exercise 6: Reverse a String\n",
    "\n",
    "Write pseudocode to reverse a given string and print it out."
   ]
  },
  {
   "cell_type": "markdown",
   "metadata": {},
   "source": [
    "<!-- Add your pseudocode here -->"
   ]
  },
  {
   "cell_type": "markdown",
   "metadata": {},
   "source": [
    "1. Ask the user to enter a string.\n",
    "2. Slice the string using the statement [::-1] and DISPLAY it."
   ]
  },
  {
   "cell_type": "code",
   "execution_count": 74,
   "metadata": {},
   "outputs": [
    {
     "name": "stdout",
     "output_type": "stream",
     "text": [
      "enif tsuj skrow\n"
     ]
    }
   ],
   "source": [
    "user_input = input(\"Enter a string: \")\n",
    "print(user_input[::-1])"
   ]
  },
  {
   "cell_type": "markdown",
   "metadata": {},
   "source": [
    "### Bonus Exercise 7: Print Multiplication Table of a Number\n",
    "\n",
    "Write pseudocode to print the multiplication table of a given number up to 10."
   ]
  },
  {
   "cell_type": "markdown",
   "metadata": {},
   "source": [
    "<!-- Add your pseudocode here -->"
   ]
  },
  {
   "cell_type": "markdown",
   "metadata": {},
   "source": [
    "1. Create an empty list to store the results.\n",
    "2. To avoid input errors, use a try/except statement\n",
    "3. Ask the user to input a whole number.\n",
    "4. Convert the number to INT.\n",
    "5. Using a FOR LOOP and the range() function:\n",
    "    - define a variable that loops through the given range\n",
    "    - define the range from 1 to 11 (to account for 10 to also be counted)\n",
    "    - multiply the variable by your input number and APPEND to the list\n",
    "6. DISPLAY the list"
   ]
  },
  {
   "cell_type": "code",
   "execution_count": 75,
   "metadata": {},
   "outputs": [
    {
     "name": "stdout",
     "output_type": "stream",
     "text": [
      "[5, 10, 15, 20, 25, 30, 35, 40, 45, 50]\n"
     ]
    }
   ],
   "source": [
    "multiples = []\n",
    "try:\n",
    "    x = int(input(\"Enter a number: \"))\n",
    "    for i in range(1, 11):\n",
    "        multiples.append(x*i)\n",
    "    print(multiples)\n",
    "except ValueError:\n",
    "    print(\"Please enter a whole number\")"
   ]
  },
  {
   "cell_type": "markdown",
   "metadata": {},
   "source": [
    "### Bonus Exercise 8: Count Words in a String\n",
    "\n",
    "Write pseudocode that counts the words in a given string and prints the result."
   ]
  },
  {
   "cell_type": "markdown",
   "metadata": {},
   "source": [
    "<!-- Add your pseudocode here -->"
   ]
  },
  {
   "cell_type": "markdown",
   "metadata": {},
   "source": [
    "1. Ask the user to input a string.\n",
    "2. Split the string into substrings of contiguous characters with the split() function, which uses spaces as delimiters.\n",
    "3. Use the len() function to count the number of substrings and DISPLAY it."
   ]
  },
  {
   "cell_type": "code",
   "execution_count": 79,
   "metadata": {},
   "outputs": [
    {
     "name": "stdout",
     "output_type": "stream",
     "text": [
      "5\n"
     ]
    }
   ],
   "source": [
    "user_string = input(\"Enter a string: \")\n",
    "word_count = len(user_string.split())\n",
    "print(word_count)"
   ]
  },
  {
   "cell_type": "markdown",
   "metadata": {},
   "source": [
    "### Bonus Exercise 9: Find Factorial of a Number\n",
    "\n",
    "Write pseudocode that calculates the factorial of a given positive integer."
   ]
  },
  {
   "cell_type": "markdown",
   "metadata": {},
   "source": [
    "<!-- Add your pseudocode here -->"
   ]
  },
  {
   "cell_type": "markdown",
   "metadata": {},
   "source": [
    "0. To avoid input errors, use a TRY/EXCEPT statement.\n",
    "1. Ask the user to input a whole positive number.\n",
    "2. Try to convert the input into an integer.\n",
    "3. If the input is a positive number:\n",
    "    a. Create a variable for the initial result and set it to 1.\n",
    "    b. Use a FOR LOOP with the range(1, input_number + 1) to iterate through numbers.\n",
    "        - Multiply the current number by the result variable and update it.\n",
    "    c. DISPLAY the final result.\n",
    "4. If the input is 0 or negative, DISPLAY \"Please enter a positive number.\"\n",
    "5. If the input is not a valid whole number, DISPLAY \"Please enter a whole number.\""
   ]
  },
  {
   "cell_type": "code",
   "execution_count": 97,
   "metadata": {},
   "outputs": [
    {
     "name": "stdout",
     "output_type": "stream",
     "text": [
      "Please enter a whole number\n"
     ]
    }
   ],
   "source": [
    "try:\n",
    "    x = int(input(\"Enter a whole positive number: \"))\n",
    "    if x > 0:\n",
    "        result = 1\n",
    "        for i in range(1, x+1):\n",
    "            result *= i\n",
    "        print(result)\n",
    "    else:\n",
    "        print(\"Please enter a positive number\")\n",
    "except ValueError:\n",
    "    print(\"Please enter a whole number\")"
   ]
  },
  {
   "cell_type": "markdown",
   "metadata": {},
   "source": [
    "### Bonus Exercise 10: FizzBuzz Problem\n",
    "\n",
    "Write pseudocode for the FizzBuzz problem where you print numbers from 1 to N but replace multiples of three with \"Fizz\" and multiples of five with \"Buzz\"."
   ]
  },
  {
   "cell_type": "markdown",
   "metadata": {},
   "source": [
    "<!-- Add your pseudocode here -->"
   ]
  },
  {
   "cell_type": "markdown",
   "metadata": {},
   "source": [
    "0. To avoid input errors, use a TRY/EXCEPT statement.\n",
    "1. Create an empty list to store the results.\n",
    "2. Ask the user to input a whole positive number.\n",
    "3. Try to convert the input into an integer.\n",
    "4. If the input is a positive number:\n",
    "    a. Use a FOR LOOP with the range(1, input_number + 1) to iterate through numbers.\n",
    "        - If the modulus 3 of a number is equal to 0:\n",
    "            > APPEND \"Fizz\" to the list.\n",
    "        - If the modulus 5 of a number is equal to 0:\n",
    "            > APPEND \"Buzz\" to the list.\n",
    "        - Else:\n",
    "            > APPEND just the number to the list.\n",
    "    b. DISPLAY the final result.\n",
    "5. If the input is 0 or negative, DISPLAY \"Please enter a positive number.\"\n",
    "6. If the input is not a valid whole number, DISPLAY \"Please enter a whole number.\""
   ]
  },
  {
   "cell_type": "code",
   "execution_count": 103,
   "metadata": {},
   "outputs": [
    {
     "name": "stdout",
     "output_type": "stream",
     "text": [
      "[1, 2, 'Fizz', 4, 'Buzz', 'Fizz', 7, 8, 'Fizz', 'Buzz']\n"
     ]
    }
   ],
   "source": [
    "try:\n",
    "    list = []\n",
    "    x = int(input(\"Enter a whole positive number: \"))\n",
    "    if x > 0:\n",
    "        for i in range(1, x+1):\n",
    "            if i % 3 == 0:\n",
    "                list.append(\"Fizz\")\n",
    "            elif i % 5 == 0:\n",
    "                list.append(\"Buzz\")\n",
    "            else:\n",
    "                list.append(i)\n",
    "        print(list)\n",
    "    else:\n",
    "        print(\"Please enter a positive number\")\n",
    "except ValueError:\n",
    "    print(\"Please enter a whole number\")"
   ]
  }
 ],
 "metadata": {
  "kernelspec": {
   "display_name": ".venv",
   "language": "python",
   "name": "python3"
  },
  "language_info": {
   "codemirror_mode": {
    "name": "ipython",
    "version": 3
   },
   "file_extension": ".py",
   "mimetype": "text/x-python",
   "name": "python",
   "nbconvert_exporter": "python",
   "pygments_lexer": "ipython3",
   "version": "3.12.2"
  }
 },
 "nbformat": 4,
 "nbformat_minor": 2
}
